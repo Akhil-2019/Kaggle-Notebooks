{
 "cells": [
  {
   "cell_type": "markdown",
   "id": "30e5ac1f",
   "metadata": {
    "id": "08yO7t-kTy8N",
    "papermill": {
     "duration": 0.010782,
     "end_time": "2023-04-23T16:02:28.473154",
     "exception": false,
     "start_time": "2023-04-23T16:02:28.462372",
     "status": "completed"
    },
    "tags": []
   },
   "source": [
    "# Modelling with logistic regression in Python"
   ]
  },
  {
   "cell_type": "markdown",
   "id": "67b3be6c",
   "metadata": {
    "papermill": {
     "duration": 0.0089,
     "end_time": "2023-04-23T16:02:28.491624",
     "exception": false,
     "start_time": "2023-04-23T16:02:28.482724",
     "status": "completed"
    },
    "tags": []
   },
   "source": [
    "## Implementing a logistic regression model in Python of the *gestational diabetes* dataset\n",
    "We will use logistic regression to produce a classification model for *gestational diabetes*. The classification task will be to predict the condition in pregnant women, or in other words, to classify pregnant women suffering the condition from healthy women. The *pima indians diabetes database* will be used, which is publicly availble. It is also available under the following link:\n",
    "https://raw.githubusercontent.com/iaolier/7021DATSCI/main/data/diabetes.csv\n"
   ]
  },
  {
   "cell_type": "code",
   "execution_count": 1,
   "id": "b30c817d",
   "metadata": {
    "execution": {
     "iopub.execute_input": "2023-04-23T16:02:28.512932Z",
     "iopub.status.busy": "2023-04-23T16:02:28.511965Z",
     "iopub.status.idle": "2023-04-23T16:02:28.524591Z",
     "shell.execute_reply": "2023-04-23T16:02:28.523347Z"
    },
    "executionInfo": {
     "elapsed": 819,
     "status": "ok",
     "timestamp": 1611588812127,
     "user": {
      "displayName": "Ivan Olier",
      "photoUrl": "https://lh3.googleusercontent.com/a-/AOh14Ghhc43rCdJQCTYC4YLpmINvtt8oV3l1YxXoQwMIxA=s64",
      "userId": "02135770244195566463"
     },
     "user_tz": 0
    },
    "id": "-7Wb0ojNTy8Z",
    "papermill": {
     "duration": 0.026662,
     "end_time": "2023-04-23T16:02:28.527500",
     "exception": false,
     "start_time": "2023-04-23T16:02:28.500838",
     "status": "completed"
    },
    "tags": []
   },
   "outputs": [],
   "source": [
    "# Import useful libraries \n",
    "import pandas as pd     # to handle data frames\n",
    "import numpy as np      # to manipulate matrices/vectors\n",
    "import matplotlib.pyplot as plt     # to generate plots\n",
    "\n",
    "# to allow for plots in notebooks\n",
    "%matplotlib inline  "
   ]
  },
  {
   "cell_type": "markdown",
   "id": "eb25c983",
   "metadata": {
    "papermill": {
     "duration": 0.009283,
     "end_time": "2023-04-23T16:02:28.546157",
     "exception": false,
     "start_time": "2023-04-23T16:02:28.536874",
     "status": "completed"
    },
    "tags": []
   },
   "source": [
    "1. Load the “diabetes.csv” into a Python’s Pandas data frame"
   ]
  },
  {
   "cell_type": "code",
   "execution_count": 2,
   "id": "16c59680",
   "metadata": {
    "execution": {
     "iopub.execute_input": "2023-04-23T16:02:28.567213Z",
     "iopub.status.busy": "2023-04-23T16:02:28.566723Z",
     "iopub.status.idle": "2023-04-23T16:02:28.820569Z",
     "shell.execute_reply": "2023-04-23T16:02:28.819206Z"
    },
    "executionInfo": {
     "elapsed": 1346,
     "status": "ok",
     "timestamp": 1611581371529,
     "user": {
      "displayName": "Ivan Olier",
      "photoUrl": "https://lh3.googleusercontent.com/a-/AOh14Ghhc43rCdJQCTYC4YLpmINvtt8oV3l1YxXoQwMIxA=s64",
      "userId": "02135770244195566463"
     },
     "user_tz": 0
    },
    "id": "B5WUU5hHTy8b",
    "outputId": "9e093b53-0838-40b0-aa07-89ad2b705a24",
    "papermill": {
     "duration": 0.268737,
     "end_time": "2023-04-23T16:02:28.824400",
     "exception": false,
     "start_time": "2023-04-23T16:02:28.555663",
     "status": "completed"
    },
    "tags": []
   },
   "outputs": [
    {
     "data": {
      "text/html": [
       "<div>\n",
       "<style scoped>\n",
       "    .dataframe tbody tr th:only-of-type {\n",
       "        vertical-align: middle;\n",
       "    }\n",
       "\n",
       "    .dataframe tbody tr th {\n",
       "        vertical-align: top;\n",
       "    }\n",
       "\n",
       "    .dataframe thead th {\n",
       "        text-align: right;\n",
       "    }\n",
       "</style>\n",
       "<table border=\"1\" class=\"dataframe\">\n",
       "  <thead>\n",
       "    <tr style=\"text-align: right;\">\n",
       "      <th></th>\n",
       "      <th>Pregnancies</th>\n",
       "      <th>Glucose</th>\n",
       "      <th>BloodPressure</th>\n",
       "      <th>SkinThickness</th>\n",
       "      <th>Insulin</th>\n",
       "      <th>BMI</th>\n",
       "      <th>DiabetesPedigreeFunction</th>\n",
       "      <th>Age</th>\n",
       "      <th>Outcome</th>\n",
       "    </tr>\n",
       "  </thead>\n",
       "  <tbody>\n",
       "    <tr>\n",
       "      <th>0</th>\n",
       "      <td>6</td>\n",
       "      <td>148</td>\n",
       "      <td>72</td>\n",
       "      <td>35</td>\n",
       "      <td>0</td>\n",
       "      <td>33.6</td>\n",
       "      <td>0.627</td>\n",
       "      <td>50</td>\n",
       "      <td>1</td>\n",
       "    </tr>\n",
       "    <tr>\n",
       "      <th>1</th>\n",
       "      <td>1</td>\n",
       "      <td>85</td>\n",
       "      <td>66</td>\n",
       "      <td>29</td>\n",
       "      <td>0</td>\n",
       "      <td>26.6</td>\n",
       "      <td>0.351</td>\n",
       "      <td>31</td>\n",
       "      <td>0</td>\n",
       "    </tr>\n",
       "    <tr>\n",
       "      <th>2</th>\n",
       "      <td>8</td>\n",
       "      <td>183</td>\n",
       "      <td>64</td>\n",
       "      <td>0</td>\n",
       "      <td>0</td>\n",
       "      <td>23.3</td>\n",
       "      <td>0.672</td>\n",
       "      <td>32</td>\n",
       "      <td>1</td>\n",
       "    </tr>\n",
       "    <tr>\n",
       "      <th>3</th>\n",
       "      <td>1</td>\n",
       "      <td>89</td>\n",
       "      <td>66</td>\n",
       "      <td>23</td>\n",
       "      <td>94</td>\n",
       "      <td>28.1</td>\n",
       "      <td>0.167</td>\n",
       "      <td>21</td>\n",
       "      <td>0</td>\n",
       "    </tr>\n",
       "    <tr>\n",
       "      <th>4</th>\n",
       "      <td>0</td>\n",
       "      <td>137</td>\n",
       "      <td>40</td>\n",
       "      <td>35</td>\n",
       "      <td>168</td>\n",
       "      <td>43.1</td>\n",
       "      <td>2.288</td>\n",
       "      <td>33</td>\n",
       "      <td>1</td>\n",
       "    </tr>\n",
       "  </tbody>\n",
       "</table>\n",
       "</div>"
      ],
      "text/plain": [
       "   Pregnancies  Glucose  BloodPressure  SkinThickness  Insulin   BMI  \\\n",
       "0            6      148             72             35        0  33.6   \n",
       "1            1       85             66             29        0  26.6   \n",
       "2            8      183             64              0        0  23.3   \n",
       "3            1       89             66             23       94  28.1   \n",
       "4            0      137             40             35      168  43.1   \n",
       "\n",
       "   DiabetesPedigreeFunction  Age  Outcome  \n",
       "0                     0.627   50        1  \n",
       "1                     0.351   31        0  \n",
       "2                     0.672   32        1  \n",
       "3                     0.167   21        0  \n",
       "4                     2.288   33        1  "
      ]
     },
     "execution_count": 2,
     "metadata": {},
     "output_type": "execute_result"
    }
   ],
   "source": [
    "\n",
    "dset = pd.read_csv(\"https://raw.githubusercontent.com/iaolier/7021DATSCI/main/data/diabetes.csv\")  # reads csv files\n",
    "dset.head() # shows the top rows of data"
   ]
  },
  {
   "cell_type": "code",
   "execution_count": 3,
   "id": "1aad01a9",
   "metadata": {
    "execution": {
     "iopub.execute_input": "2023-04-23T16:02:28.845779Z",
     "iopub.status.busy": "2023-04-23T16:02:28.845330Z",
     "iopub.status.idle": "2023-04-23T16:02:28.850630Z",
     "shell.execute_reply": "2023-04-23T16:02:28.849328Z"
    },
    "executionInfo": {
     "elapsed": 34876,
     "status": "ok",
     "timestamp": 1611588862842,
     "user": {
      "displayName": "Ivan Olier",
      "photoUrl": "https://lh3.googleusercontent.com/a-/AOh14Ghhc43rCdJQCTYC4YLpmINvtt8oV3l1YxXoQwMIxA=s64",
      "userId": "02135770244195566463"
     },
     "user_tz": 0
    },
    "id": "h1mERqA3CoJz",
    "outputId": "68126ccf-2bb5-4b9c-c1ad-27b7e6490764",
    "papermill": {
     "duration": 0.019069,
     "end_time": "2023-04-23T16:02:28.853267",
     "exception": false,
     "start_time": "2023-04-23T16:02:28.834198",
     "status": "completed"
    },
    "tags": []
   },
   "outputs": [],
   "source": [
    "# Option 2: Using Google Colab with a local file\n",
    "#from google.colab import files\n",
    "#uploaded = files.upload()\n",
    "#import io\n",
    "#dset = pd.read_csv(io.BytesIO(uploaded['diabetes.csv']))\n",
    "#dset.head()"
   ]
  },
  {
   "cell_type": "markdown",
   "id": "2dcf40d4",
   "metadata": {
    "papermill": {
     "duration": 0.009129,
     "end_time": "2023-04-23T16:02:28.871924",
     "exception": false,
     "start_time": "2023-04-23T16:02:28.862795",
     "status": "completed"
    },
    "tags": []
   },
   "source": [
    "2. Report # of variables, # of observations, and # of missing values"
   ]
  },
  {
   "cell_type": "code",
   "execution_count": 4,
   "id": "b36f26d8",
   "metadata": {
    "execution": {
     "iopub.execute_input": "2023-04-23T16:02:28.894707Z",
     "iopub.status.busy": "2023-04-23T16:02:28.893404Z",
     "iopub.status.idle": "2023-04-23T16:02:28.903424Z",
     "shell.execute_reply": "2023-04-23T16:02:28.902110Z"
    },
    "papermill": {
     "duration": 0.023476,
     "end_time": "2023-04-23T16:02:28.905875",
     "exception": false,
     "start_time": "2023-04-23T16:02:28.882399",
     "status": "completed"
    },
    "tags": []
   },
   "outputs": [
    {
     "name": "stdout",
     "output_type": "stream",
     "text": [
      "Number of variables:  9\n",
      "Number of observations:  768\n",
      "Number of missing values:  0\n"
     ]
    }
   ],
   "source": [
    "# Report # of variables, # of observations, and # of missing values\n",
    "print(\"Number of variables: \", dset.shape[1])\n",
    "print(\"Number of observations: \", dset.shape[0])\n",
    "print(\"Number of missing values: \", dset.isnull().sum().sum())"
   ]
  },
  {
   "cell_type": "markdown",
   "id": "d1a720c7",
   "metadata": {
    "papermill": {
     "duration": 0.009188,
     "end_time": "2023-04-23T16:02:28.924865",
     "exception": false,
     "start_time": "2023-04-23T16:02:28.915677",
     "status": "completed"
    },
    "tags": []
   },
   "source": [
    "3. Explore all the variables by producing histograms and detect possible outliers, suspicious values, etc."
   ]
  },
  {
   "cell_type": "code",
   "execution_count": 5,
   "id": "6401785a",
   "metadata": {
    "execution": {
     "iopub.execute_input": "2023-04-23T16:02:28.946589Z",
     "iopub.status.busy": "2023-04-23T16:02:28.945289Z",
     "iopub.status.idle": "2023-04-23T16:02:30.494926Z",
     "shell.execute_reply": "2023-04-23T16:02:30.493545Z"
    },
    "executionInfo": {
     "elapsed": 2028,
     "status": "ok",
     "timestamp": 1611093668826,
     "user": {
      "displayName": "Ivan Olier",
      "photoUrl": "https://lh3.googleusercontent.com/a-/AOh14Ghhc43rCdJQCTYC4YLpmINvtt8oV3l1YxXoQwMIxA=s64",
      "userId": "02135770244195566463"
     },
     "user_tz": 0
    },
    "id": "BLZPqmF9Ty8e",
    "outputId": "62d7ae88-80f1-4363-f104-ca7d5447bee5",
    "papermill": {
     "duration": 1.564224,
     "end_time": "2023-04-23T16:02:30.498556",
     "exception": false,
     "start_time": "2023-04-23T16:02:28.934332",
     "status": "completed"
    },
    "tags": []
   },
   "outputs": [
    {
     "data": {
      "image/png": "[encoded data removed]",
      "text/plain": [
       "<Figure size 1000x1000 with 9 Axes>"
      ]
     },
     "metadata": {},
     "output_type": "display_data"
    }
   ],
   "source": [
    "plot1 = dset.hist(figsize=[10,10])    # displays histograms of the DataFrame columns"
   ]
  },
  {
   "cell_type": "markdown",
   "id": "0dd38e99",
   "metadata": {
    "id": "PxHNFyW7llFx",
    "papermill": {
     "duration": 0.01094,
     "end_time": "2023-04-23T16:02:30.520839",
     "exception": false,
     "start_time": "2023-04-23T16:02:30.509899",
     "status": "completed"
    },
    "tags": []
   },
   "source": [
    "* are there any issues with the *diabetes* dataset?\n",
    "    - As we can see glucose, bloodpressure and bmi has few zero values which can say that there must have been na values replaced with zero which makes the data frame corrupted. Also there is class imbalance (outcome variable)"
   ]
  },
  {
   "cell_type": "code",
   "execution_count": 6,
   "id": "5728af2b",
   "metadata": {
    "execution": {
     "iopub.execute_input": "2023-04-23T16:02:30.546624Z",
     "iopub.status.busy": "2023-04-23T16:02:30.545740Z",
     "iopub.status.idle": "2023-04-23T16:02:30.590432Z",
     "shell.execute_reply": "2023-04-23T16:02:30.589379Z"
    },
    "executionInfo": {
     "elapsed": 540,
     "status": "ok",
     "timestamp": 1611093674355,
     "user": {
      "displayName": "Ivan Olier",
      "photoUrl": "https://lh3.googleusercontent.com/a-/AOh14Ghhc43rCdJQCTYC4YLpmINvtt8oV3l1YxXoQwMIxA=s64",
      "userId": "02135770244195566463"
     },
     "user_tz": 0
    },
    "id": "k-QEPZYcTy8f",
    "outputId": "c518d3e0-3e2d-4dd6-b9b9-00c8dffa3bef",
    "papermill": {
     "duration": 0.060193,
     "end_time": "2023-04-23T16:02:30.592788",
     "exception": false,
     "start_time": "2023-04-23T16:02:30.532595",
     "status": "completed"
    },
    "tags": []
   },
   "outputs": [
    {
     "data": {
      "text/html": [
       "<div>\n",
       "<style scoped>\n",
       "    .dataframe tbody tr th:only-of-type {\n",
       "        vertical-align: middle;\n",
       "    }\n",
       "\n",
       "    .dataframe tbody tr th {\n",
       "        vertical-align: top;\n",
       "    }\n",
       "\n",
       "    .dataframe thead th {\n",
       "        text-align: right;\n",
       "    }\n",
       "</style>\n",
       "<table border=\"1\" class=\"dataframe\">\n",
       "  <thead>\n",
       "    <tr style=\"text-align: right;\">\n",
       "      <th></th>\n",
       "      <th>Pregnancies</th>\n",
       "      <th>Glucose</th>\n",
       "      <th>BloodPressure</th>\n",
       "      <th>SkinThickness</th>\n",
       "      <th>Insulin</th>\n",
       "      <th>BMI</th>\n",
       "      <th>DiabetesPedigreeFunction</th>\n",
       "      <th>Age</th>\n",
       "      <th>Outcome</th>\n",
       "    </tr>\n",
       "  </thead>\n",
       "  <tbody>\n",
       "    <tr>\n",
       "      <th>count</th>\n",
       "      <td>768.000000</td>\n",
       "      <td>763.000000</td>\n",
       "      <td>733.000000</td>\n",
       "      <td>541.000000</td>\n",
       "      <td>394.000000</td>\n",
       "      <td>757.000000</td>\n",
       "      <td>768.000000</td>\n",
       "      <td>768.000000</td>\n",
       "      <td>768.000000</td>\n",
       "    </tr>\n",
       "    <tr>\n",
       "      <th>mean</th>\n",
       "      <td>3.845052</td>\n",
       "      <td>121.686763</td>\n",
       "      <td>72.405184</td>\n",
       "      <td>29.153420</td>\n",
       "      <td>155.548223</td>\n",
       "      <td>32.457464</td>\n",
       "      <td>0.471876</td>\n",
       "      <td>33.240885</td>\n",
       "      <td>0.348958</td>\n",
       "    </tr>\n",
       "    <tr>\n",
       "      <th>std</th>\n",
       "      <td>3.369578</td>\n",
       "      <td>30.535641</td>\n",
       "      <td>12.382158</td>\n",
       "      <td>10.476982</td>\n",
       "      <td>118.775855</td>\n",
       "      <td>6.924988</td>\n",
       "      <td>0.331329</td>\n",
       "      <td>11.760232</td>\n",
       "      <td>0.476951</td>\n",
       "    </tr>\n",
       "    <tr>\n",
       "      <th>min</th>\n",
       "      <td>0.000000</td>\n",
       "      <td>44.000000</td>\n",
       "      <td>24.000000</td>\n",
       "      <td>7.000000</td>\n",
       "      <td>14.000000</td>\n",
       "      <td>18.200000</td>\n",
       "      <td>0.078000</td>\n",
       "      <td>21.000000</td>\n",
       "      <td>0.000000</td>\n",
       "    </tr>\n",
       "    <tr>\n",
       "      <th>25%</th>\n",
       "      <td>1.000000</td>\n",
       "      <td>99.000000</td>\n",
       "      <td>64.000000</td>\n",
       "      <td>22.000000</td>\n",
       "      <td>76.250000</td>\n",
       "      <td>27.500000</td>\n",
       "      <td>0.243750</td>\n",
       "      <td>24.000000</td>\n",
       "      <td>0.000000</td>\n",
       "    </tr>\n",
       "    <tr>\n",
       "      <th>50%</th>\n",
       "      <td>3.000000</td>\n",
       "      <td>117.000000</td>\n",
       "      <td>72.000000</td>\n",
       "      <td>29.000000</td>\n",
       "      <td>125.000000</td>\n",
       "      <td>32.300000</td>\n",
       "      <td>0.372500</td>\n",
       "      <td>29.000000</td>\n",
       "      <td>0.000000</td>\n",
       "    </tr>\n",
       "    <tr>\n",
       "      <th>75%</th>\n",
       "      <td>6.000000</td>\n",
       "      <td>141.000000</td>\n",
       "      <td>80.000000</td>\n",
       "      <td>36.000000</td>\n",
       "      <td>190.000000</td>\n",
       "      <td>36.600000</td>\n",
       "      <td>0.626250</td>\n",
       "      <td>41.000000</td>\n",
       "      <td>1.000000</td>\n",
       "    </tr>\n",
       "    <tr>\n",
       "      <th>max</th>\n",
       "      <td>17.000000</td>\n",
       "      <td>199.000000</td>\n",
       "      <td>122.000000</td>\n",
       "      <td>99.000000</td>\n",
       "      <td>846.000000</td>\n",
       "      <td>67.100000</td>\n",
       "      <td>2.420000</td>\n",
       "      <td>81.000000</td>\n",
       "      <td>1.000000</td>\n",
       "    </tr>\n",
       "  </tbody>\n",
       "</table>\n",
       "</div>"
      ],
      "text/plain": [
       "       Pregnancies     Glucose  BloodPressure  SkinThickness     Insulin  \\\n",
       "count   768.000000  763.000000     733.000000     541.000000  394.000000   \n",
       "mean      3.845052  121.686763      72.405184      29.153420  155.548223   \n",
       "std       3.369578   30.535641      12.382158      10.476982  118.775855   \n",
       "min       0.000000   44.000000      24.000000       7.000000   14.000000   \n",
       "25%       1.000000   99.000000      64.000000      22.000000   76.250000   \n",
       "50%       3.000000  117.000000      72.000000      29.000000  125.000000   \n",
       "75%       6.000000  141.000000      80.000000      36.000000  190.000000   \n",
       "max      17.000000  199.000000     122.000000      99.000000  846.000000   \n",
       "\n",
       "              BMI  DiabetesPedigreeFunction         Age     Outcome  \n",
       "count  757.000000                768.000000  768.000000  768.000000  \n",
       "mean    32.457464                  0.471876   33.240885    0.348958  \n",
       "std      6.924988                  0.331329   11.760232    0.476951  \n",
       "min     18.200000                  0.078000   21.000000    0.000000  \n",
       "25%     27.500000                  0.243750   24.000000    0.000000  \n",
       "50%     32.300000                  0.372500   29.000000    0.000000  \n",
       "75%     36.600000                  0.626250   41.000000    1.000000  \n",
       "max     67.100000                  2.420000   81.000000    1.000000  "
      ]
     },
     "execution_count": 6,
     "metadata": {},
     "output_type": "execute_result"
    }
   ],
   "source": [
    "# Use `replace` to replace values in the columns. Here we replace any \"0\" by \"NaN\" (not a number - which represents missing values in Python)\n",
    "dset = dset.replace({'BMI' : 0, 'BloodPressure' : 0, 'Glucose' : 0, 'Insulin' : 0, 'SkinThickness' : 0}, np.nan)\n",
    "dset.describe()"
   ]
  },
  {
   "cell_type": "code",
   "execution_count": 7,
   "id": "de2d2acc",
   "metadata": {
    "execution": {
     "iopub.execute_input": "2023-04-23T16:02:30.618382Z",
     "iopub.status.busy": "2023-04-23T16:02:30.617467Z",
     "iopub.status.idle": "2023-04-23T16:02:30.627265Z",
     "shell.execute_reply": "2023-04-23T16:02:30.626000Z"
    },
    "executionInfo": {
     "elapsed": 597,
     "status": "ok",
     "timestamp": 1611093676247,
     "user": {
      "displayName": "Ivan Olier",
      "photoUrl": "https://lh3.googleusercontent.com/a-/AOh14Ghhc43rCdJQCTYC4YLpmINvtt8oV3l1YxXoQwMIxA=s64",
      "userId": "02135770244195566463"
     },
     "user_tz": 0
    },
    "id": "bkSyv-KlTy8g",
    "outputId": "4b4b6d6f-8839-4845-eaab-ef9c559b7ca0",
    "papermill": {
     "duration": 0.025772,
     "end_time": "2023-04-23T16:02:30.629986",
     "exception": false,
     "start_time": "2023-04-23T16:02:30.604214",
     "status": "completed"
    },
    "tags": []
   },
   "outputs": [
    {
     "data": {
      "text/plain": [
       "Pregnancies                   0\n",
       "Glucose                       5\n",
       "BloodPressure                35\n",
       "SkinThickness               227\n",
       "Insulin                     374\n",
       "BMI                          11\n",
       "DiabetesPedigreeFunction      0\n",
       "Age                           0\n",
       "Outcome                       0\n",
       "dtype: int64"
      ]
     },
     "execution_count": 7,
     "metadata": {},
     "output_type": "execute_result"
    }
   ],
   "source": [
    "dset.isna().sum()     # shows the number of missings per column"
   ]
  },
  {
   "cell_type": "code",
   "execution_count": 8,
   "id": "b3452b3b",
   "metadata": {
    "execution": {
     "iopub.execute_input": "2023-04-23T16:02:30.655922Z",
     "iopub.status.busy": "2023-04-23T16:02:30.654600Z",
     "iopub.status.idle": "2023-04-23T16:02:30.696723Z",
     "shell.execute_reply": "2023-04-23T16:02:30.695417Z"
    },
    "executionInfo": {
     "elapsed": 517,
     "status": "ok",
     "timestamp": 1611093677748,
     "user": {
      "displayName": "Ivan Olier",
      "photoUrl": "https://lh3.googleusercontent.com/a-/AOh14Ghhc43rCdJQCTYC4YLpmINvtt8oV3l1YxXoQwMIxA=s64",
      "userId": "02135770244195566463"
     },
     "user_tz": 0
    },
    "id": "_nvjYEHzTy8g",
    "outputId": "1274aac4-a348-4bdb-8cfc-9841ec704aef",
    "papermill": {
     "duration": 0.058077,
     "end_time": "2023-04-23T16:02:30.699508",
     "exception": false,
     "start_time": "2023-04-23T16:02:30.641431",
     "status": "completed"
    },
    "tags": []
   },
   "outputs": [
    {
     "data": {
      "text/html": [
       "<div>\n",
       "<style scoped>\n",
       "    .dataframe tbody tr th:only-of-type {\n",
       "        vertical-align: middle;\n",
       "    }\n",
       "\n",
       "    .dataframe tbody tr th {\n",
       "        vertical-align: top;\n",
       "    }\n",
       "\n",
       "    .dataframe thead th {\n",
       "        text-align: right;\n",
       "    }\n",
       "</style>\n",
       "<table border=\"1\" class=\"dataframe\">\n",
       "  <thead>\n",
       "    <tr style=\"text-align: right;\">\n",
       "      <th></th>\n",
       "      <th>Pregnancies</th>\n",
       "      <th>Glucose</th>\n",
       "      <th>BloodPressure</th>\n",
       "      <th>SkinThickness</th>\n",
       "      <th>Insulin</th>\n",
       "      <th>BMI</th>\n",
       "      <th>DiabetesPedigreeFunction</th>\n",
       "      <th>Age</th>\n",
       "      <th>Outcome</th>\n",
       "    </tr>\n",
       "  </thead>\n",
       "  <tbody>\n",
       "    <tr>\n",
       "      <th>count</th>\n",
       "      <td>392.000000</td>\n",
       "      <td>392.000000</td>\n",
       "      <td>392.000000</td>\n",
       "      <td>392.000000</td>\n",
       "      <td>392.000000</td>\n",
       "      <td>392.000000</td>\n",
       "      <td>392.000000</td>\n",
       "      <td>392.000000</td>\n",
       "      <td>392.000000</td>\n",
       "    </tr>\n",
       "    <tr>\n",
       "      <th>mean</th>\n",
       "      <td>3.301020</td>\n",
       "      <td>122.627551</td>\n",
       "      <td>70.663265</td>\n",
       "      <td>29.145408</td>\n",
       "      <td>156.056122</td>\n",
       "      <td>33.086224</td>\n",
       "      <td>0.523046</td>\n",
       "      <td>30.864796</td>\n",
       "      <td>0.331633</td>\n",
       "    </tr>\n",
       "    <tr>\n",
       "      <th>std</th>\n",
       "      <td>3.211424</td>\n",
       "      <td>30.860781</td>\n",
       "      <td>12.496092</td>\n",
       "      <td>10.516424</td>\n",
       "      <td>118.841690</td>\n",
       "      <td>7.027659</td>\n",
       "      <td>0.345488</td>\n",
       "      <td>10.200777</td>\n",
       "      <td>0.471401</td>\n",
       "    </tr>\n",
       "    <tr>\n",
       "      <th>min</th>\n",
       "      <td>0.000000</td>\n",
       "      <td>56.000000</td>\n",
       "      <td>24.000000</td>\n",
       "      <td>7.000000</td>\n",
       "      <td>14.000000</td>\n",
       "      <td>18.200000</td>\n",
       "      <td>0.085000</td>\n",
       "      <td>21.000000</td>\n",
       "      <td>0.000000</td>\n",
       "    </tr>\n",
       "    <tr>\n",
       "      <th>25%</th>\n",
       "      <td>1.000000</td>\n",
       "      <td>99.000000</td>\n",
       "      <td>62.000000</td>\n",
       "      <td>21.000000</td>\n",
       "      <td>76.750000</td>\n",
       "      <td>28.400000</td>\n",
       "      <td>0.269750</td>\n",
       "      <td>23.000000</td>\n",
       "      <td>0.000000</td>\n",
       "    </tr>\n",
       "    <tr>\n",
       "      <th>50%</th>\n",
       "      <td>2.000000</td>\n",
       "      <td>119.000000</td>\n",
       "      <td>70.000000</td>\n",
       "      <td>29.000000</td>\n",
       "      <td>125.500000</td>\n",
       "      <td>33.200000</td>\n",
       "      <td>0.449500</td>\n",
       "      <td>27.000000</td>\n",
       "      <td>0.000000</td>\n",
       "    </tr>\n",
       "    <tr>\n",
       "      <th>75%</th>\n",
       "      <td>5.000000</td>\n",
       "      <td>143.000000</td>\n",
       "      <td>78.000000</td>\n",
       "      <td>37.000000</td>\n",
       "      <td>190.000000</td>\n",
       "      <td>37.100000</td>\n",
       "      <td>0.687000</td>\n",
       "      <td>36.000000</td>\n",
       "      <td>1.000000</td>\n",
       "    </tr>\n",
       "    <tr>\n",
       "      <th>max</th>\n",
       "      <td>17.000000</td>\n",
       "      <td>198.000000</td>\n",
       "      <td>110.000000</td>\n",
       "      <td>63.000000</td>\n",
       "      <td>846.000000</td>\n",
       "      <td>67.100000</td>\n",
       "      <td>2.420000</td>\n",
       "      <td>81.000000</td>\n",
       "      <td>1.000000</td>\n",
       "    </tr>\n",
       "  </tbody>\n",
       "</table>\n",
       "</div>"
      ],
      "text/plain": [
       "       Pregnancies     Glucose  BloodPressure  SkinThickness     Insulin  \\\n",
       "count   392.000000  392.000000     392.000000     392.000000  392.000000   \n",
       "mean      3.301020  122.627551      70.663265      29.145408  156.056122   \n",
       "std       3.211424   30.860781      12.496092      10.516424  118.841690   \n",
       "min       0.000000   56.000000      24.000000       7.000000   14.000000   \n",
       "25%       1.000000   99.000000      62.000000      21.000000   76.750000   \n",
       "50%       2.000000  119.000000      70.000000      29.000000  125.500000   \n",
       "75%       5.000000  143.000000      78.000000      37.000000  190.000000   \n",
       "max      17.000000  198.000000     110.000000      63.000000  846.000000   \n",
       "\n",
       "              BMI  DiabetesPedigreeFunction         Age     Outcome  \n",
       "count  392.000000                392.000000  392.000000  392.000000  \n",
       "mean    33.086224                  0.523046   30.864796    0.331633  \n",
       "std      7.027659                  0.345488   10.200777    0.471401  \n",
       "min     18.200000                  0.085000   21.000000    0.000000  \n",
       "25%     28.400000                  0.269750   23.000000    0.000000  \n",
       "50%     33.200000                  0.449500   27.000000    0.000000  \n",
       "75%     37.100000                  0.687000   36.000000    1.000000  \n",
       "max     67.100000                  2.420000   81.000000    1.000000  "
      ]
     },
     "execution_count": 8,
     "metadata": {},
     "output_type": "execute_result"
    }
   ],
   "source": [
    "dset = dset.dropna()    # drops rows with missing values\n",
    "dset.describe()"
   ]
  },
  {
   "cell_type": "markdown",
   "id": "563b7fba",
   "metadata": {
    "id": "F3SvM0pgmodY",
    "papermill": {
     "duration": 0.011155,
     "end_time": "2023-04-23T16:02:30.722264",
     "exception": false,
     "start_time": "2023-04-23T16:02:30.711109",
     "status": "completed"
    },
    "tags": []
   },
   "source": [
    "* Now we could say the data is ready for use."
   ]
  },
  {
   "cell_type": "markdown",
   "id": "5e407e53",
   "metadata": {
    "id": "HBls-nthTy8l",
    "papermill": {
     "duration": 0.011059,
     "end_time": "2023-04-23T16:02:30.745507",
     "exception": false,
     "start_time": "2023-04-23T16:02:30.734448",
     "status": "completed"
    },
    "tags": []
   },
   "source": [
    "### Using the `sklearn` library\n",
    "*scikit-learn* library or \"sklearn\", in short, is the most popular library for machine learning modelling in Python. \n",
    "Please, follow this link for it official documentation: https://scikit-learn.org/stable/\n",
    "\n",
    "We will use the library for most of the *Data Mining* module. In this tutorial, it will be used for modelling the *diabetes* data with Logistic Regression and for model evaluation.\n",
    "\n",
    "1. split the data into a traning and a test subset. Use 80% of the data for training and 20% for testing.\n"
   ]
  },
  {
   "cell_type": "code",
   "execution_count": 9,
   "id": "0a396629",
   "metadata": {
    "execution": {
     "iopub.execute_input": "2023-04-23T16:02:30.770987Z",
     "iopub.status.busy": "2023-04-23T16:02:30.770501Z",
     "iopub.status.idle": "2023-04-23T16:02:31.828684Z",
     "shell.execute_reply": "2023-04-23T16:02:31.827553Z"
    },
    "id": "e7qPrelGTy8m",
    "papermill": {
     "duration": 1.074126,
     "end_time": "2023-04-23T16:02:31.831551",
     "exception": false,
     "start_time": "2023-04-23T16:02:30.757425",
     "status": "completed"
    },
    "tags": []
   },
   "outputs": [],
   "source": [
    "from sklearn.model_selection import train_test_split      # imports function to splits the data\n",
    "X_train, X_test, y_train, y_test = train_test_split(dset.drop('Outcome', axis=1), dset['Outcome'], test_size=0.2, random_state=123)  # splits 80% training, 20% test"
   ]
  },
  {
   "cell_type": "markdown",
   "id": "71eb64ae",
   "metadata": {
    "papermill": {
     "duration": 0.010979,
     "end_time": "2023-04-23T16:02:31.854135",
     "exception": false,
     "start_time": "2023-04-23T16:02:31.843156",
     "status": "completed"
    },
    "tags": []
   },
   "source": [
    "2. train a logistic regression model using the training subset. Use the `LogisticRegression` class from the `sklearn.linear_model` module."
   ]
  },
  {
   "cell_type": "code",
   "execution_count": 10,
   "id": "3ca7cab0",
   "metadata": {
    "execution": {
     "iopub.execute_input": "2023-04-23T16:02:31.879528Z",
     "iopub.status.busy": "2023-04-23T16:02:31.878704Z",
     "iopub.status.idle": "2023-04-23T16:02:32.044964Z",
     "shell.execute_reply": "2023-04-23T16:02:32.043581Z"
    },
    "id": "MvU0f21UTy8n",
    "papermill": {
     "duration": 0.182245,
     "end_time": "2023-04-23T16:02:32.047947",
     "exception": false,
     "start_time": "2023-04-23T16:02:31.865702",
     "status": "completed"
    },
    "tags": []
   },
   "outputs": [
    {
     "data": {
      "text/plain": [
       "LogisticRegression(max_iter=1000)"
      ]
     },
     "execution_count": 10,
     "metadata": {},
     "output_type": "execute_result"
    }
   ],
   "source": [
    "from sklearn.linear_model import LogisticRegression   # imports the logistic regression module implemented in sklearn\n",
    "mdl = LogisticRegression(max_iter = 1000)    # sets up the algorithm (or learner)\n",
    "mdl.fit(X_train, y_train)    # fits the model to the training data"
   ]
  },
  {
   "cell_type": "markdown",
   "id": "10b60006",
   "metadata": {
    "papermill": {
     "duration": 0.011765,
     "end_time": "2023-04-23T16:02:32.071802",
     "exception": false,
     "start_time": "2023-04-23T16:02:32.060037",
     "status": "completed"
    },
    "tags": []
   },
   "source": [
    "3. predict new outputs (classes and class probabilities) using the test subset.\n"
   ]
  },
  {
   "cell_type": "code",
   "execution_count": 11,
   "id": "66b63080",
   "metadata": {
    "execution": {
     "iopub.execute_input": "2023-04-23T16:02:32.097474Z",
     "iopub.status.busy": "2023-04-23T16:02:32.096972Z",
     "iopub.status.idle": "2023-04-23T16:02:32.107689Z",
     "shell.execute_reply": "2023-04-23T16:02:32.106453Z"
    },
    "papermill": {
     "duration": 0.026402,
     "end_time": "2023-04-23T16:02:32.110030",
     "exception": false,
     "start_time": "2023-04-23T16:02:32.083628",
     "status": "completed"
    },
    "tags": []
   },
   "outputs": [
    {
     "data": {
      "text/plain": [
       "array([0, 1, 1, 0, 1, 0, 0, 0, 0, 0, 1, 0, 0, 0, 0, 1, 1, 0, 1, 0, 0, 0,\n",
       "       0, 1, 0, 0, 0, 0, 0, 0, 0, 0, 0, 0, 0, 1, 0, 0, 0, 0, 0, 0, 0, 0,\n",
       "       1, 1, 0, 0, 0, 1, 0, 0, 0, 0, 1, 0, 0, 0, 0, 0, 0, 0, 0, 0, 0, 0,\n",
       "       0, 0, 0, 0, 1, 0, 0, 0, 0, 0, 0, 0, 0])"
      ]
     },
     "execution_count": 11,
     "metadata": {},
     "output_type": "execute_result"
    }
   ],
   "source": [
    "y_pred = mdl.predict(X_test)    # predicts the test data\n",
    "y_pred"
   ]
  },
  {
   "cell_type": "code",
   "execution_count": 12,
   "id": "fdd77787",
   "metadata": {
    "execution": {
     "iopub.execute_input": "2023-04-23T16:02:32.136324Z",
     "iopub.status.busy": "2023-04-23T16:02:32.135393Z",
     "iopub.status.idle": "2023-04-23T16:02:32.146220Z",
     "shell.execute_reply": "2023-04-23T16:02:32.145042Z"
    },
    "papermill": {
     "duration": 0.026904,
     "end_time": "2023-04-23T16:02:32.148775",
     "exception": false,
     "start_time": "2023-04-23T16:02:32.121871",
     "status": "completed"
    },
    "tags": []
   },
   "outputs": [
    {
     "data": {
      "text/plain": [
       "array([0.1370357 , 0.53795047, 0.55591481, 0.30405325, 0.5216278 ,\n",
       "       0.17384861, 0.01673007, 0.06314605, 0.41818461, 0.08477386,\n",
       "       0.87460478, 0.10230841, 0.40463767, 0.36043976, 0.47038138,\n",
       "       0.64954008, 0.75535688, 0.2847141 , 0.86057215, 0.38006157,\n",
       "       0.18725924, 0.15839335, 0.07459557, 0.81739194, 0.13746347,\n",
       "       0.29547974, 0.12744366, 0.03961439, 0.37478519, 0.03253216,\n",
       "       0.07213896, 0.12054222, 0.1255248 , 0.08504529, 0.05338111,\n",
       "       0.86773578, 0.25686069, 0.16020718, 0.09106353, 0.48008549,\n",
       "       0.14773849, 0.20340535, 0.13663718, 0.18297053, 0.73386128,\n",
       "       0.61457531, 0.3476821 , 0.26891221, 0.19805393, 0.66363853,\n",
       "       0.02925348, 0.24503575, 0.10718784, 0.06660926, 0.55620879,\n",
       "       0.26296515, 0.01001937, 0.06671298, 0.02418021, 0.33563324,\n",
       "       0.10808174, 0.49345105, 0.1473113 , 0.0626034 , 0.07636642,\n",
       "       0.45774389, 0.1677129 , 0.49643563, 0.25019014, 0.35773987,\n",
       "       0.86120076, 0.04648455, 0.39464167, 0.30329766, 0.28825604,\n",
       "       0.00919529, 0.08539035, 0.02987087, 0.02991005])"
      ]
     },
     "execution_count": 12,
     "metadata": {},
     "output_type": "execute_result"
    }
   ],
   "source": [
    "y_pred_prob = mdl.predict_proba(X_test)[:,1]    # predicts the probability of the test data\n",
    "y_pred_prob"
   ]
  },
  {
   "cell_type": "markdown",
   "id": "b3a9df04",
   "metadata": {
    "papermill": {
     "duration": 0.01144,
     "end_time": "2023-04-23T16:02:32.172130",
     "exception": false,
     "start_time": "2023-04-23T16:02:32.160690",
     "status": "completed"
    },
    "tags": []
   },
   "source": [
    "4. evaluate the model performance using the test subset. Use the `classification_report` function from the `sklearn.metrics` module."
   ]
  },
  {
   "cell_type": "code",
   "execution_count": 13,
   "id": "8d3fdebe",
   "metadata": {
    "execution": {
     "iopub.execute_input": "2023-04-23T16:02:32.197801Z",
     "iopub.status.busy": "2023-04-23T16:02:32.197325Z",
     "iopub.status.idle": "2023-04-23T16:02:32.222133Z",
     "shell.execute_reply": "2023-04-23T16:02:32.220813Z"
    },
    "papermill": {
     "duration": 0.040637,
     "end_time": "2023-04-23T16:02:32.224784",
     "exception": false,
     "start_time": "2023-04-23T16:02:32.184147",
     "status": "completed"
    },
    "tags": []
   },
   "outputs": [
    {
     "name": "stdout",
     "output_type": "stream",
     "text": [
      "Accuracy:  0.7341772151898734\n",
      "Precision:  0.6428571428571429\n",
      "Recall:  0.36\n",
      "F1:  0.4615384615384615\n",
      "AUC:  0.8266666666666667\n",
      "Confusion Matrix:  [[49  5]\n",
      " [16  9]]\n",
      "Classification Report:                precision    recall  f1-score   support\n",
      "\n",
      "           0       0.75      0.91      0.82        54\n",
      "           1       0.64      0.36      0.46        25\n",
      "\n",
      "    accuracy                           0.73        79\n",
      "   macro avg       0.70      0.63      0.64        79\n",
      "weighted avg       0.72      0.73      0.71        79\n",
      "\n"
     ]
    }
   ],
   "source": [
    "from sklearn.metrics import roc_auc_score, roc_curve, auc, confusion_matrix, accuracy_score, precision_score, recall_score, f1_score, classification_report\n",
    "print(\"Accuracy: \", accuracy_score(y_test, y_pred))\n",
    "print(\"Precision: \", precision_score(y_test, y_pred))\n",
    "print(\"Recall: \", recall_score(y_test, y_pred))\n",
    "print(\"F1: \", f1_score(y_test, y_pred))\n",
    "print(\"AUC: \", roc_auc_score(y_test, y_pred_prob))\n",
    "print(\"Confusion Matrix: \", confusion_matrix(y_test, y_pred))\n",
    "print(\"Classification Report: \", classification_report(y_test, y_pred))"
   ]
  },
  {
   "cell_type": "markdown",
   "id": "fa9ecc58",
   "metadata": {
    "papermill": {
     "duration": 0.011467,
     "end_time": "2023-04-23T16:02:32.248685",
     "exception": false,
     "start_time": "2023-04-23T16:02:32.237218",
     "status": "completed"
    },
    "tags": []
   },
   "source": [
    "5. Plot the ROC and PR curves. Use the `RocCurveDisplay` and `PrecisionRecallDisplay` classes from the `sklearn.metrics` module."
   ]
  },
  {
   "cell_type": "code",
   "execution_count": 14,
   "id": "fdcbeb35",
   "metadata": {
    "execution": {
     "iopub.execute_input": "2023-04-23T16:02:32.274874Z",
     "iopub.status.busy": "2023-04-23T16:02:32.274374Z",
     "iopub.status.idle": "2023-04-23T16:02:32.548918Z",
     "shell.execute_reply": "2023-04-23T16:02:32.547510Z"
    },
    "papermill": {
     "duration": 0.292284,
     "end_time": "2023-04-23T16:02:32.552947",
     "exception": false,
     "start_time": "2023-04-23T16:02:32.260663",
     "status": "completed"
    },
    "tags": []
   },
   "outputs": [
    {
     "data": {
      "text/plain": [
       "<sklearn.metrics._plot.roc_curve.RocCurveDisplay at 0x74eb07b23410>"
      ]
     },
     "execution_count": 14,
     "metadata": {},
     "output_type": "execute_result"
    },
    {
     "data": {
      "image/png": "[encoded data removed]",
      "text/plain": [
       "<Figure size 640x480 with 1 Axes>"
      ]
     },
     "metadata": {},
     "output_type": "display_data"
    }
   ],
   "source": [
    "# Plot the ROC curve\n",
    "from sklearn.metrics import RocCurveDisplay\n",
    "RocCurveDisplay.from_estimator(mdl, X_test, y_test)"
   ]
  },
  {
   "cell_type": "code",
   "execution_count": 15,
   "id": "1d3bf884",
   "metadata": {
    "execution": {
     "iopub.execute_input": "2023-04-23T16:02:32.583738Z",
     "iopub.status.busy": "2023-04-23T16:02:32.582868Z",
     "iopub.status.idle": "2023-04-23T16:02:32.842421Z",
     "shell.execute_reply": "2023-04-23T16:02:32.841151Z"
    },
    "papermill": {
     "duration": 0.277579,
     "end_time": "2023-04-23T16:02:32.845981",
     "exception": false,
     "start_time": "2023-04-23T16:02:32.568402",
     "status": "completed"
    },
    "tags": []
   },
   "outputs": [
    {
     "data": {
      "text/plain": [
       "<sklearn.metrics._plot.precision_recall_curve.PrecisionRecallDisplay at 0x74eb1c490710>"
      ]
     },
     "execution_count": 15,
     "metadata": {},
     "output_type": "execute_result"
    },
    {
     "data": {
      "image/png": "[encoded data removed]",
      "text/plain": [
       "<Figure size 640x480 with 1 Axes>"
      ]
     },
     "metadata": {},
     "output_type": "display_data"
    }
   ],
   "source": [
    "# Plot Precision-Recall curve\n",
    "from sklearn.metrics import PrecisionRecallDisplay\n",
    "PrecisionRecallDisplay.from_estimator(mdl, X_test, y_test)"
   ]
  },
  {
   "cell_type": "markdown",
   "id": "621b562c",
   "metadata": {
    "papermill": {
     "duration": 0.012637,
     "end_time": "2023-04-23T16:02:32.872257",
     "exception": false,
     "start_time": "2023-04-23T16:02:32.859620",
     "status": "completed"
    },
    "tags": []
   },
   "source": [
    "6. Explain the quality of the model performance.\n",
    "7. To display the confusion matrix, we can alternatively use the `confusionMatrixDisplay` class from the `sklearn.metrics` module."
   ]
  },
  {
   "cell_type": "code",
   "execution_count": 16,
   "id": "70283d03",
   "metadata": {
    "execution": {
     "iopub.execute_input": "2023-04-23T16:02:32.902877Z",
     "iopub.status.busy": "2023-04-23T16:02:32.902397Z",
     "iopub.status.idle": "2023-04-23T16:02:33.210402Z",
     "shell.execute_reply": "2023-04-23T16:02:33.209050Z"
    },
    "papermill": {
     "duration": 0.32787,
     "end_time": "2023-04-23T16:02:33.213355",
     "exception": false,
     "start_time": "2023-04-23T16:02:32.885485",
     "status": "completed"
    },
    "tags": []
   },
   "outputs": [
    {
     "data": {
      "image/png": "[encoded data removed]",
      "text/plain": [
       "<Figure size 640x480 with 2 Axes>"
      ]
     },
     "metadata": {},
     "output_type": "display_data"
    }
   ],
   "source": [
    "from sklearn.metrics import confusion_matrix, ConfusionMatrixDisplay\n",
    "cm = confusion_matrix(y_true=y_test, y_pred=y_pred)\n",
    "cm_display = ConfusionMatrixDisplay(confusion_matrix=cm, display_labels=mdl.classes_).plot()"
   ]
  },
  {
   "cell_type": "markdown",
   "id": "77de6d16",
   "metadata": {
    "papermill": {
     "duration": 0.012848,
     "end_time": "2023-04-23T16:02:33.239670",
     "exception": false,
     "start_time": "2023-04-23T16:02:33.226822",
     "status": "completed"
    },
    "tags": []
   },
   "source": [
    "8. THe above confusion matrix assumes that the cut-off for the class probability is 0.5. What happens if we change the cut-off to 0.3? What happens if we change the cut-off to 0.7? We can use the Youden's index to find the optimal cut-off. Use the `roc_curve` function from the `sklearn.metrics` module to find the optimal cut-off."
   ]
  },
  {
   "cell_type": "code",
   "execution_count": 17,
   "id": "dfcebf17",
   "metadata": {
    "execution": {
     "iopub.execute_input": "2023-04-23T16:02:33.269380Z",
     "iopub.status.busy": "2023-04-23T16:02:33.268412Z",
     "iopub.status.idle": "2023-04-23T16:02:33.275345Z",
     "shell.execute_reply": "2023-04-23T16:02:33.274426Z"
    },
    "id": "qCF4_XpYwKX4",
    "papermill": {
     "duration": 0.024814,
     "end_time": "2023-04-23T16:02:33.277907",
     "exception": false,
     "start_time": "2023-04-23T16:02:33.253093",
     "status": "completed"
    },
    "tags": []
   },
   "outputs": [],
   "source": [
    "# computes TPR, FPR, and thresholds\n",
    "from sklearn.metrics import roc_curve\n",
    "fpr, tpr, thresholds = roc_curve(y_test, y_pred_prob)\n"
   ]
  },
  {
   "cell_type": "code",
   "execution_count": 18,
   "id": "2c56db34",
   "metadata": {
    "execution": {
     "iopub.execute_input": "2023-04-23T16:02:33.307439Z",
     "iopub.status.busy": "2023-04-23T16:02:33.306498Z",
     "iopub.status.idle": "2023-04-23T16:02:33.314327Z",
     "shell.execute_reply": "2023-04-23T16:02:33.312937Z"
    },
    "papermill": {
     "duration": 0.025648,
     "end_time": "2023-04-23T16:02:33.316977",
     "exception": false,
     "start_time": "2023-04-23T16:02:33.291329",
     "status": "completed"
    },
    "tags": []
   },
   "outputs": [
    {
     "name": "stdout",
     "output_type": "stream",
     "text": [
      "Best Threshold=0.256861, J=0.562\n"
     ]
    }
   ],
   "source": [
    "# Use Youden's J statistic to find the optimal threshold\n",
    "J = tpr - fpr\n",
    "ix = np.argmax(J)\n",
    "print('Best Threshold=%f, J=%.3f' % (thresholds[ix], J[ix]))"
   ]
  },
  {
   "cell_type": "code",
   "execution_count": 19,
   "id": "cab17739",
   "metadata": {
    "execution": {
     "iopub.execute_input": "2023-04-23T16:02:33.347352Z",
     "iopub.status.busy": "2023-04-23T16:02:33.346313Z",
     "iopub.status.idle": "2023-04-23T16:02:33.355509Z",
     "shell.execute_reply": "2023-04-23T16:02:33.354494Z"
    },
    "executionInfo": {
     "elapsed": 563,
     "status": "ok",
     "timestamp": 1611095312379,
     "user": {
      "displayName": "Ivan Olier",
      "photoUrl": "https://lh3.googleusercontent.com/a-/AOh14Ghhc43rCdJQCTYC4YLpmINvtt8oV3l1YxXoQwMIxA=s64",
      "userId": "02135770244195566463"
     },
     "user_tz": 0
    },
    "id": "3auV4SVQTy8w",
    "outputId": "644a5fed-77e7-42c3-8bba-c46d9c74a4a4",
    "papermill": {
     "duration": 0.028265,
     "end_time": "2023-04-23T16:02:33.359005",
     "exception": false,
     "start_time": "2023-04-23T16:02:33.330740",
     "status": "completed"
    },
    "tags": []
   },
   "outputs": [
    {
     "data": {
      "text/plain": [
       "array([0, 1, 1, 1, 1, 0, 0, 0, 1, 0, 1, 0, 1, 1, 1, 1, 1, 1, 1, 1, 0, 0,\n",
       "       0, 1, 0, 1, 0, 0, 1, 0, 0, 0, 0, 0, 0, 1, 0, 0, 0, 1, 0, 0, 0, 0,\n",
       "       1, 1, 1, 1, 0, 1, 0, 0, 0, 0, 1, 1, 0, 0, 0, 1, 0, 1, 0, 0, 0, 1,\n",
       "       0, 1, 0, 1, 1, 0, 1, 1, 1, 0, 0, 0, 0])"
      ]
     },
     "execution_count": 19,
     "metadata": {},
     "output_type": "execute_result"
    }
   ],
   "source": [
    "# Use the above cutoff to predict the class\n",
    "y_class_opt = np.where(y_pred_prob > thresholds[ix], 1, 0)\n",
    "y_class_opt"
   ]
  },
  {
   "cell_type": "code",
   "execution_count": 20,
   "id": "cb04b994",
   "metadata": {
    "execution": {
     "iopub.execute_input": "2023-04-23T16:02:33.390800Z",
     "iopub.status.busy": "2023-04-23T16:02:33.389500Z",
     "iopub.status.idle": "2023-04-23T16:02:33.399988Z",
     "shell.execute_reply": "2023-04-23T16:02:33.398713Z"
    },
    "executionInfo": {
     "elapsed": 479,
     "status": "ok",
     "timestamp": 1611095318681,
     "user": {
      "displayName": "Ivan Olier",
      "photoUrl": "https://lh3.googleusercontent.com/a-/AOh14Ghhc43rCdJQCTYC4YLpmINvtt8oV3l1YxXoQwMIxA=s64",
      "userId": "02135770244195566463"
     },
     "user_tz": 0
    },
    "id": "tkIsTn1qTy8x",
    "outputId": "eeff1dd7-54dc-4f05-b097-28ee010dc54e",
    "papermill": {
     "duration": 0.02973,
     "end_time": "2023-04-23T16:02:33.402972",
     "exception": false,
     "start_time": "2023-04-23T16:02:33.373242",
     "status": "completed"
    },
    "tags": []
   },
   "outputs": [
    {
     "data": {
      "text/plain": [
       "0.7468354430379747"
      ]
     },
     "execution_count": 20,
     "metadata": {},
     "output_type": "execute_result"
    }
   ],
   "source": [
    "#Accuracy:\n",
    "from sklearn.metrics import accuracy_score\n",
    "accuracy_score(y_true=y_test, y_pred=y_class_opt)"
   ]
  },
  {
   "cell_type": "code",
   "execution_count": 21,
   "id": "8a4a34c6",
   "metadata": {
    "execution": {
     "iopub.execute_input": "2023-04-23T16:02:33.435883Z",
     "iopub.status.busy": "2023-04-23T16:02:33.434726Z",
     "iopub.status.idle": "2023-04-23T16:02:33.716431Z",
     "shell.execute_reply": "2023-04-23T16:02:33.715478Z"
    },
    "executionInfo": {
     "elapsed": 760,
     "status": "ok",
     "timestamp": 1611095545910,
     "user": {
      "displayName": "Ivan Olier",
      "photoUrl": "https://lh3.googleusercontent.com/a-/AOh14Ghhc43rCdJQCTYC4YLpmINvtt8oV3l1YxXoQwMIxA=s64",
      "userId": "02135770244195566463"
     },
     "user_tz": 0
    },
    "id": "1ghMNtuBTy8x",
    "outputId": "f74278c8-9a7a-4ec7-8248-c9b6d6d0e6c2",
    "papermill": {
     "duration": 0.300674,
     "end_time": "2023-04-23T16:02:33.718832",
     "exception": false,
     "start_time": "2023-04-23T16:02:33.418158",
     "status": "completed"
    },
    "tags": []
   },
   "outputs": [
    {
     "data": {
      "image/png": "[encoded data removed]",
      "text/plain": [
       "<Figure size 640x480 with 2 Axes>"
      ]
     },
     "metadata": {},
     "output_type": "display_data"
    }
   ],
   "source": [
    "# New Confusion matrix:\n",
    "cm_opt = confusion_matrix(y_true=y_test, y_pred=y_class_opt)\n",
    "cm_display = ConfusionMatrixDisplay(confusion_matrix=cm_opt, display_labels=mdl.classes_).plot()\n"
   ]
  },
  {
   "cell_type": "markdown",
   "id": "ddf9740f",
   "metadata": {
    "papermill": {
     "duration": 0.015883,
     "end_time": "2023-04-23T16:02:33.750166",
     "exception": false,
     "start_time": "2023-04-23T16:02:33.734283",
     "status": "completed"
    },
    "tags": []
   },
   "source": [
    "9. Discuss the results. How the cut-off affects the model performance?"
   ]
  },
  {
   "cell_type": "markdown",
   "id": "b3a88c39",
   "metadata": {
    "id": "vRvAL5zp083x",
    "papermill": {
     "duration": 0.016015,
     "end_time": "2023-04-23T16:02:33.781902",
     "exception": false,
     "start_time": "2023-04-23T16:02:33.765887",
     "status": "completed"
    },
    "tags": []
   },
   "source": [
    "## Exercise 2\n",
    "Repeat a similar analysis, but now using the “SAheart” dataset instead. The dataset is available on:\n",
    "https://raw.githubusercontent.com/iaolier/7021DATSCI/main/data/SAheart.csv \n",
    "\n",
    "The South African Heart dataset (SAHeart): The dataset is publicly available, just type its name in Google. The dataset is a retrospective sample of males in a heart-disease high-risk region of the Western Cape, South Africa. There are roughly two controls per case of Coronary Heart Disease (CHD). Many of the CHD positive men have undergone blood pressure reduction treatment and other programs to reduce their risk factors after their CHD event. In some cases the measurements were made after these treatments. These data are taken from a larger dataset, described in Rousseauw et al, 1983, South African Medical Journal.\n",
    "This is the set of variables in the dataset:\n",
    "\n",
    "- sbp - systolic blood pressure\n",
    "- tobacco - cumulative tobacco (kg)\n",
    "- ldl - low densiity lipoprotein cholesterol\n",
    "- adiposity\n",
    "- famhist - family history of heart disease (Present, Absent)\n",
    "- typea - type-A behavior\n",
    "- obesity\n",
    "- alcohol - current alcohol consumption\n",
    "- age - age at onset\n",
    "- chd - response, coronary heart disease\n",
    "\n",
    "The aim is to predict the risk of CHD as a function of the other variables. This is essentially a classification task with two classes: CHD/No CHD (coded as 1 and 0, respectively).\n",
    "\n"
   ]
  },
  {
   "cell_type": "code",
   "execution_count": 22,
   "id": "65979d8f",
   "metadata": {
    "execution": {
     "iopub.execute_input": "2023-04-23T16:02:33.813267Z",
     "iopub.status.busy": "2023-04-23T16:02:33.812774Z",
     "iopub.status.idle": "2023-04-23T16:02:33.817472Z",
     "shell.execute_reply": "2023-04-23T16:02:33.816456Z"
    },
    "id": "1-O5k-Ma1LUB",
    "papermill": {
     "duration": 0.023745,
     "end_time": "2023-04-23T16:02:33.819791",
     "exception": false,
     "start_time": "2023-04-23T16:02:33.796046",
     "status": "completed"
    },
    "tags": []
   },
   "outputs": [],
   "source": [
    "# Your answer here\n"
   ]
  }
 ],
 "metadata": {
  "kernelspec": {
   "display_name": "Python 3",
   "language": "python",
   "name": "python3"
  },
  "language_info": {
   "codemirror_mode": {
    "name": "ipython",
    "version": 3
   },
   "file_extension": ".py",
   "mimetype": "text/x-python",
   "name": "python",
   "nbconvert_exporter": "python",
   "pygments_lexer": "ipython3",
   "version": "3.7.12"
  },
  "papermill": {
   "default_parameters": {},
   "duration": 17.142877,
   "end_time": "2023-04-23T16:02:34.659029",
   "environment_variables": {},
   "exception": null,
   "input_path": "__notebook__.ipynb",
   "output_path": "__notebook__.ipynb",
   "parameters": {},
   "start_time": "2023-04-23T16:02:17.516152",
   "version": "2.4.0"
  }
 },
 "nbformat": 4,
 "nbformat_minor": 5
}
