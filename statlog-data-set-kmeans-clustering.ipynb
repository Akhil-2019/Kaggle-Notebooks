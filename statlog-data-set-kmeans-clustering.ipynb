{
 "cells": [
  {
   "cell_type": "markdown",
   "id": "81c931d1",
   "metadata": {
    "papermill": {
     "duration": 0.008683,
     "end_time": "2023-02-20T14:11:34.576094",
     "exception": false,
     "start_time": "2023-02-20T14:11:34.567411",
     "status": "completed"
    },
    "tags": []
   },
   "source": [
    "## Introduction\n",
    "We will use the the *Statlog/Satellite* dataset to illustrate the KMeans clustering algorithm. The dataset contains 6435 instances, 36 attributes and 7 classes. The dataset is available at the [UCI Machine Learning Repository](https://archive.ics.uci.edu/ml/datasets/Statlog+%28Landsat+Satellite%29). \n",
    "\n",
    "* Please follow the above link to read the description of the dataset.\n",
    "\n",
    "## Importing the dataset and libraries\n",
    "We will use the *pandas* library to import the dataset and the *scikit-learn* library to perform the clustering. We will also use the *matplotlib* library to plot the results. We will also use the *seaborn* library for visualisation."
   ]
  },
  {
   "cell_type": "code",
   "execution_count": 1,
   "id": "5d675628",
   "metadata": {
    "_cell_guid": "b1076dfc-b9ad-4769-8c92-a6c4dae69d19",
    "_uuid": "8f2839f25d086af736a60e9eeb907d3b93b6e0e5",
    "execution": {
     "iopub.execute_input": "2023-02-20T14:11:34.587874Z",
     "iopub.status.busy": "2023-02-20T14:11:34.587101Z",
     "iopub.status.idle": "2023-02-20T14:11:35.984632Z",
     "shell.execute_reply": "2023-02-20T14:11:35.983610Z"
    },
    "papermill": {
     "duration": 1.406825,
     "end_time": "2023-02-20T14:11:35.987485",
     "exception": false,
     "start_time": "2023-02-20T14:11:34.580660",
     "status": "completed"
    },
    "tags": []
   },
   "outputs": [],
   "source": [
    "import numpy as np\n",
    "import pandas as pd\n",
    "from sklearn.cluster import KMeans\n",
    "import matplotlib.pyplot as plt\n",
    "import seaborn as sns"
   ]
  },
  {
   "cell_type": "code",
   "execution_count": 2,
   "id": "a34e0ac1",
   "metadata": {
    "execution": {
     "iopub.execute_input": "2023-02-20T14:11:35.997121Z",
     "iopub.status.busy": "2023-02-20T14:11:35.996698Z",
     "iopub.status.idle": "2023-02-20T14:11:36.637284Z",
     "shell.execute_reply": "2023-02-20T14:11:36.635706Z"
    },
    "papermill": {
     "duration": 0.648909,
     "end_time": "2023-02-20T14:11:36.640459",
     "exception": false,
     "start_time": "2023-02-20T14:11:35.991550",
     "status": "completed"
    },
    "tags": []
   },
   "outputs": [],
   "source": [
    "# Load the dataset\n",
    "# Load the dataset from the UCI repository\n",
    "url = \"https://archive.ics.uci.edu/ml/machine-learning-databases/statlog/satimage/sat.trn\"\n",
    "data = pd.read_csv(url, header=None, delim_whitespace=True)\n",
    "\n",
    "# Extract the features and target variable\n",
    "X = data.iloc[:, :-1].values\n",
    "y = data.iloc[:, -1].values"
   ]
  },
  {
   "cell_type": "code",
   "execution_count": 3,
   "id": "9d4be41f",
   "metadata": {
    "execution": {
     "iopub.execute_input": "2023-02-20T14:11:36.652742Z",
     "iopub.status.busy": "2023-02-20T14:11:36.650282Z",
     "iopub.status.idle": "2023-02-20T14:11:36.689761Z",
     "shell.execute_reply": "2023-02-20T14:11:36.688221Z"
    },
    "papermill": {
     "duration": 0.048622,
     "end_time": "2023-02-20T14:11:36.693277",
     "exception": false,
     "start_time": "2023-02-20T14:11:36.644655",
     "status": "completed"
    },
    "tags": []
   },
   "outputs": [
    {
     "data": {
      "text/html": [
       "<div>\n",
       "<style scoped>\n",
       "    .dataframe tbody tr th:only-of-type {\n",
       "        vertical-align: middle;\n",
       "    }\n",
       "\n",
       "    .dataframe tbody tr th {\n",
       "        vertical-align: top;\n",
       "    }\n",
       "\n",
       "    .dataframe thead th {\n",
       "        text-align: right;\n",
       "    }\n",
       "</style>\n",
       "<table border=\"1\" class=\"dataframe\">\n",
       "  <thead>\n",
       "    <tr style=\"text-align: right;\">\n",
       "      <th></th>\n",
       "      <th>0</th>\n",
       "      <th>1</th>\n",
       "      <th>2</th>\n",
       "      <th>3</th>\n",
       "      <th>4</th>\n",
       "      <th>5</th>\n",
       "      <th>6</th>\n",
       "      <th>7</th>\n",
       "      <th>8</th>\n",
       "      <th>9</th>\n",
       "      <th>...</th>\n",
       "      <th>27</th>\n",
       "      <th>28</th>\n",
       "      <th>29</th>\n",
       "      <th>30</th>\n",
       "      <th>31</th>\n",
       "      <th>32</th>\n",
       "      <th>33</th>\n",
       "      <th>34</th>\n",
       "      <th>35</th>\n",
       "      <th>36</th>\n",
       "    </tr>\n",
       "  </thead>\n",
       "  <tbody>\n",
       "    <tr>\n",
       "      <th>0</th>\n",
       "      <td>92</td>\n",
       "      <td>115</td>\n",
       "      <td>120</td>\n",
       "      <td>94</td>\n",
       "      <td>84</td>\n",
       "      <td>102</td>\n",
       "      <td>106</td>\n",
       "      <td>79</td>\n",
       "      <td>84</td>\n",
       "      <td>102</td>\n",
       "      <td>...</td>\n",
       "      <td>104</td>\n",
       "      <td>88</td>\n",
       "      <td>121</td>\n",
       "      <td>128</td>\n",
       "      <td>100</td>\n",
       "      <td>84</td>\n",
       "      <td>107</td>\n",
       "      <td>113</td>\n",
       "      <td>87</td>\n",
       "      <td>3</td>\n",
       "    </tr>\n",
       "    <tr>\n",
       "      <th>1</th>\n",
       "      <td>84</td>\n",
       "      <td>102</td>\n",
       "      <td>106</td>\n",
       "      <td>79</td>\n",
       "      <td>84</td>\n",
       "      <td>102</td>\n",
       "      <td>102</td>\n",
       "      <td>83</td>\n",
       "      <td>80</td>\n",
       "      <td>102</td>\n",
       "      <td>...</td>\n",
       "      <td>100</td>\n",
       "      <td>84</td>\n",
       "      <td>107</td>\n",
       "      <td>113</td>\n",
       "      <td>87</td>\n",
       "      <td>84</td>\n",
       "      <td>99</td>\n",
       "      <td>104</td>\n",
       "      <td>79</td>\n",
       "      <td>3</td>\n",
       "    </tr>\n",
       "    <tr>\n",
       "      <th>2</th>\n",
       "      <td>84</td>\n",
       "      <td>102</td>\n",
       "      <td>102</td>\n",
       "      <td>83</td>\n",
       "      <td>80</td>\n",
       "      <td>102</td>\n",
       "      <td>102</td>\n",
       "      <td>79</td>\n",
       "      <td>84</td>\n",
       "      <td>94</td>\n",
       "      <td>...</td>\n",
       "      <td>87</td>\n",
       "      <td>84</td>\n",
       "      <td>99</td>\n",
       "      <td>104</td>\n",
       "      <td>79</td>\n",
       "      <td>84</td>\n",
       "      <td>99</td>\n",
       "      <td>104</td>\n",
       "      <td>79</td>\n",
       "      <td>3</td>\n",
       "    </tr>\n",
       "    <tr>\n",
       "      <th>3</th>\n",
       "      <td>80</td>\n",
       "      <td>102</td>\n",
       "      <td>102</td>\n",
       "      <td>79</td>\n",
       "      <td>84</td>\n",
       "      <td>94</td>\n",
       "      <td>102</td>\n",
       "      <td>79</td>\n",
       "      <td>80</td>\n",
       "      <td>94</td>\n",
       "      <td>...</td>\n",
       "      <td>79</td>\n",
       "      <td>84</td>\n",
       "      <td>99</td>\n",
       "      <td>104</td>\n",
       "      <td>79</td>\n",
       "      <td>84</td>\n",
       "      <td>103</td>\n",
       "      <td>104</td>\n",
       "      <td>79</td>\n",
       "      <td>3</td>\n",
       "    </tr>\n",
       "    <tr>\n",
       "      <th>4</th>\n",
       "      <td>84</td>\n",
       "      <td>94</td>\n",
       "      <td>102</td>\n",
       "      <td>79</td>\n",
       "      <td>80</td>\n",
       "      <td>94</td>\n",
       "      <td>98</td>\n",
       "      <td>76</td>\n",
       "      <td>80</td>\n",
       "      <td>102</td>\n",
       "      <td>...</td>\n",
       "      <td>79</td>\n",
       "      <td>84</td>\n",
       "      <td>103</td>\n",
       "      <td>104</td>\n",
       "      <td>79</td>\n",
       "      <td>79</td>\n",
       "      <td>107</td>\n",
       "      <td>109</td>\n",
       "      <td>87</td>\n",
       "      <td>3</td>\n",
       "    </tr>\n",
       "  </tbody>\n",
       "</table>\n",
       "<p>5 rows × 37 columns</p>\n",
       "</div>"
      ],
      "text/plain": [
       "   0    1    2   3   4    5    6   7   8    9   ...   27  28   29   30   31  \\\n",
       "0  92  115  120  94  84  102  106  79  84  102  ...  104  88  121  128  100   \n",
       "1  84  102  106  79  84  102  102  83  80  102  ...  100  84  107  113   87   \n",
       "2  84  102  102  83  80  102  102  79  84   94  ...   87  84   99  104   79   \n",
       "3  80  102  102  79  84   94  102  79  80   94  ...   79  84   99  104   79   \n",
       "4  84   94  102  79  80   94   98  76  80  102  ...   79  84  103  104   79   \n",
       "\n",
       "   32   33   34  35  36  \n",
       "0  84  107  113  87   3  \n",
       "1  84   99  104  79   3  \n",
       "2  84   99  104  79   3  \n",
       "3  84  103  104  79   3  \n",
       "4  79  107  109  87   3  \n",
       "\n",
       "[5 rows x 37 columns]"
      ]
     },
     "execution_count": 3,
     "metadata": {},
     "output_type": "execute_result"
    }
   ],
   "source": [
    "data.head()"
   ]
  },
  {
   "cell_type": "markdown",
   "id": "24d4c323",
   "metadata": {
    "papermill": {
     "duration": 0.004299,
     "end_time": "2023-02-20T14:11:36.704104",
     "exception": false,
     "start_time": "2023-02-20T14:11:36.699805",
     "status": "completed"
    },
    "tags": []
   },
   "source": [
    "## KMeans Clustering\n",
    "The code below performs KMeans on `X` varying the number of clusters from 1 to 10. The *sum of the squared distances (SSD)* are recorded in the `inertia_` attribute. The code also plots the results:"
   ]
  },
  {
   "cell_type": "code",
   "execution_count": 4,
   "id": "547461ab",
   "metadata": {
    "execution": {
     "iopub.execute_input": "2023-02-20T14:11:36.715602Z",
     "iopub.status.busy": "2023-02-20T14:11:36.715208Z",
     "iopub.status.idle": "2023-02-20T14:11:43.470377Z",
     "shell.execute_reply": "2023-02-20T14:11:43.468956Z"
    },
    "papermill": {
     "duration": 6.76438,
     "end_time": "2023-02-20T14:11:43.472780",
     "exception": false,
     "start_time": "2023-02-20T14:11:36.708400",
     "status": "completed"
    },
    "tags": []
   },
   "outputs": [
    {
     "data": {
      "image/png": "[encoded data removed]",
      "text/plain": [
       "<Figure size 640x480 with 1 Axes>"
      ]
     },
     "metadata": {},
     "output_type": "display_data"
    }
   ],
   "source": [
    "# Define a list of values of k to try\n",
    "ks = range(1, 10)\n",
    "\n",
    "# Initialise an empty list to store the sum of squared distances for each k\n",
    "ssd = []\n",
    "\n",
    "# Iterate over the values of k and calculate the sum of squared distances\n",
    "for k in ks:\n",
    "    kmeans = KMeans(n_clusters=k, random_state=42)\n",
    "    kmeans.fit(X)\n",
    "    ssd.append(kmeans.inertia_)\n",
    "\n",
    "# Plot the sum of squared distances for each value of k\n",
    "plt.plot(ks, ssd, 'bx-')\n",
    "plt.xlabel('Number of clusters (k)')\n",
    "plt.ylabel('Sum of squared distances')\n",
    "plt.title('Elbow Method')\n",
    "plt.show()"
   ]
  },
  {
   "cell_type": "markdown",
   "id": "33ed3484",
   "metadata": {
    "papermill": {
     "duration": 0.004767,
     "end_time": "2023-02-20T14:11:43.482545",
     "exception": false,
     "start_time": "2023-02-20T14:11:43.477778",
     "status": "completed"
    },
    "tags": []
   },
   "source": [
    "* Using the *elbow method*, we can see that the optimal number of clusters could be 3."
   ]
  },
  {
   "cell_type": "code",
   "execution_count": 5,
   "id": "26af204e",
   "metadata": {
    "execution": {
     "iopub.execute_input": "2023-02-20T14:11:43.494076Z",
     "iopub.status.busy": "2023-02-20T14:11:43.493602Z",
     "iopub.status.idle": "2023-02-20T14:11:43.849528Z",
     "shell.execute_reply": "2023-02-20T14:11:43.846837Z"
    },
    "papermill": {
     "duration": 0.365236,
     "end_time": "2023-02-20T14:11:43.852559",
     "exception": false,
     "start_time": "2023-02-20T14:11:43.487323",
     "status": "completed"
    },
    "tags": []
   },
   "outputs": [
    {
     "name": "stdout",
     "output_type": "stream",
     "text": [
      "0    2017\n",
      "1    1996\n",
      "2     422\n",
      "Name: cluster, dtype: int64\n"
     ]
    }
   ],
   "source": [
    "# Choose the value of k from the elbow method (in this case, let's say k=3)\n",
    "k = 3\n",
    "\n",
    "# Run KMeans with the chosen value of k\n",
    "kmeans = KMeans(n_clusters=k, random_state=0)\n",
    "labels = kmeans.fit_predict(X)\n",
    "\n",
    "# Add the cluster labels to the original dataset\n",
    "data['cluster'] = labels\n",
    "\n",
    "# Print the number of samples in each cluster\n",
    "print(data['cluster'].value_counts())"
   ]
  },
  {
   "cell_type": "markdown",
   "id": "a85a7d96",
   "metadata": {
    "papermill": {
     "duration": 0.004728,
     "end_time": "2023-02-20T14:11:43.862286",
     "exception": false,
     "start_time": "2023-02-20T14:11:43.857558",
     "status": "completed"
    },
    "tags": []
   },
   "source": [
    "We can verify how the clusters are correlated to the actual classes by plotting a 2D histogram as follows:"
   ]
  },
  {
   "cell_type": "code",
   "execution_count": 6,
   "id": "f5cf2e5e",
   "metadata": {
    "execution": {
     "iopub.execute_input": "2023-02-20T14:11:43.874118Z",
     "iopub.status.busy": "2023-02-20T14:11:43.873652Z",
     "iopub.status.idle": "2023-02-20T14:11:44.219915Z",
     "shell.execute_reply": "2023-02-20T14:11:44.218798Z"
    },
    "papermill": {
     "duration": 0.355313,
     "end_time": "2023-02-20T14:11:44.222414",
     "exception": false,
     "start_time": "2023-02-20T14:11:43.867101",
     "status": "completed"
    },
    "tags": []
   },
   "outputs": [
    {
     "data": {
      "image/png": "[encoded data removed]",
      "text/plain": [
       "<Figure size 640x480 with 2 Axes>"
      ]
     },
     "metadata": {},
     "output_type": "display_data"
    }
   ],
   "source": [
    "# convert labels to strings\n",
    "y = y.astype(str)\n",
    "labels = labels.astype(str)\n",
    "\n",
    "# Create a 2D histogram of the actual class labels vs. the predicted cluster labels\n",
    "sns.histplot(x=y, y=labels, cbar=True, cmap='YlOrBr')\n",
    "plt.xlabel('Actual Class')\n",
    "plt.ylabel('Predicted Cluster')\n",
    "plt.show()"
   ]
  },
  {
   "cell_type": "markdown",
   "id": "32097ebf",
   "metadata": {
    "papermill": {
     "duration": 0.004731,
     "end_time": "2023-02-20T14:11:44.232261",
     "exception": false,
     "start_time": "2023-02-20T14:11:44.227530",
     "status": "completed"
    },
    "tags": []
   },
   "source": [
    "Changing the number of clusters to 2 and 4. How does the clustering change? and the correlation with the actual classes?"
   ]
  },
  {
   "cell_type": "code",
   "execution_count": 7,
   "id": "7887c462",
   "metadata": {
    "execution": {
     "iopub.execute_input": "2023-02-20T14:11:44.244089Z",
     "iopub.status.busy": "2023-02-20T14:11:44.243639Z",
     "iopub.status.idle": "2023-02-20T14:11:44.933454Z",
     "shell.execute_reply": "2023-02-20T14:11:44.932347Z"
    },
    "papermill": {
     "duration": 0.698573,
     "end_time": "2023-02-20T14:11:44.935888",
     "exception": false,
     "start_time": "2023-02-20T14:11:44.237315",
     "status": "completed"
    },
    "tags": []
   },
   "outputs": [
    {
     "name": "stdout",
     "output_type": "stream",
     "text": [
      "0    2385\n",
      "1    2050\n",
      "Name: cluster, dtype: int64\n"
     ]
    },
    {
     "data": {
      "image/png": "[encoded data removed]",
      "text/plain": [
       "<Figure size 640x480 with 2 Axes>"
      ]
     },
     "metadata": {},
     "output_type": "display_data"
    }
   ],
   "source": [
    "k = 2\n",
    "\n",
    "# Run KMeans with the chosen value of k\n",
    "kmeans = KMeans(n_clusters=k, random_state=0)\n",
    "labels = kmeans.fit_predict(X)\n",
    "\n",
    "# Add the cluster labels to the original dataset\n",
    "data['cluster'] = labels\n",
    "\n",
    "# Print the number of samples in each cluster\n",
    "print(data['cluster'].value_counts())\n",
    "\n",
    "y = y.astype(str)\n",
    "labels = labels.astype(str)\n",
    "\n",
    "# Create a 2D histogram of the actual class labels vs. the predicted cluster labels\n",
    "sns.histplot(x=y, y=labels, cbar=True, cmap='YlOrBr')\n",
    "plt.xlabel('Actual Class')\n",
    "plt.ylabel('Predicted Cluster')\n",
    "plt.show()"
   ]
  },
  {
   "cell_type": "code",
   "execution_count": 8,
   "id": "bc9217dd",
   "metadata": {
    "execution": {
     "iopub.execute_input": "2023-02-20T14:11:44.949027Z",
     "iopub.status.busy": "2023-02-20T14:11:44.948563Z",
     "iopub.status.idle": "2023-02-20T14:11:45.942814Z",
     "shell.execute_reply": "2023-02-20T14:11:45.941448Z"
    },
    "papermill": {
     "duration": 1.003793,
     "end_time": "2023-02-20T14:11:45.945404",
     "exception": false,
     "start_time": "2023-02-20T14:11:44.941611",
     "status": "completed"
    },
    "tags": []
   },
   "outputs": [
    {
     "name": "stdout",
     "output_type": "stream",
     "text": [
      "3    1546\n",
      "1    1288\n",
      "0    1193\n",
      "2     408\n",
      "Name: cluster, dtype: int64\n"
     ]
    },
    {
     "data": {
      "image/png": "[encoded data removed]",
      "text/plain": [
       "<Figure size 640x480 with 2 Axes>"
      ]
     },
     "metadata": {},
     "output_type": "display_data"
    }
   ],
   "source": [
    "k = 4\n",
    "\n",
    "# Run KMeans with the chosen value of k\n",
    "kmeans = KMeans(n_clusters=k, random_state=0)\n",
    "labels = kmeans.fit_predict(X)\n",
    "\n",
    "# Add the cluster labels to the original dataset\n",
    "data['cluster'] = labels\n",
    "\n",
    "# Print the number of samples in each cluster\n",
    "print(data['cluster'].value_counts())\n",
    "\n",
    "y = y.astype(str)\n",
    "labels = labels.astype(str)\n",
    "\n",
    "# Create a 2D histogram of the actual class labels vs. the predicted cluster labels\n",
    "sns.histplot(x=y, y=labels, cbar=True, cmap='YlOrBr')\n",
    "plt.xlabel('Actual Class')\n",
    "plt.ylabel('Predicted Cluster')\n",
    "plt.show()"
   ]
  },
  {
   "cell_type": "code",
   "execution_count": null,
   "id": "6cc44d71",
   "metadata": {
    "papermill": {
     "duration": 0.005796,
     "end_time": "2023-02-20T14:11:45.957405",
     "exception": false,
     "start_time": "2023-02-20T14:11:45.951609",
     "status": "completed"
    },
    "tags": []
   },
   "outputs": [],
   "source": []
  }
 ],
 "metadata": {
  "kernelspec": {
   "display_name": "Python 3",
   "language": "python",
   "name": "python3"
  },
  "language_info": {
   "codemirror_mode": {
    "name": "ipython",
    "version": 3
   },
   "file_extension": ".py",
   "mimetype": "text/x-python",
   "name": "python",
   "nbconvert_exporter": "python",
   "pygments_lexer": "ipython3",
   "version": "3.7.12"
  },
  "papermill": {
   "default_parameters": {},
   "duration": 21.259062,
   "end_time": "2023-02-20T14:11:46.786077",
   "environment_variables": {},
   "exception": null,
   "input_path": "__notebook__.ipynb",
   "output_path": "__notebook__.ipynb",
   "parameters": {},
   "start_time": "2023-02-20T14:11:25.527015",
   "version": "2.3.4"
  }
 },
 "nbformat": 4,
 "nbformat_minor": 5
}
